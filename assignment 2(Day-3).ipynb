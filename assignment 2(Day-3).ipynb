{
 "cells": [
  {
   "cell_type": "code",
   "execution_count": 7,
   "id": "f037bf7e-fcad-48a7-bf9c-271eb7f542cc",
   "metadata": {},
   "outputs": [
    {
     "name": "stdout",
     "output_type": "stream",
     "text": [
      "2\n",
      "3\n"
     ]
    }
   ],
   "source": [
    "def list_count_4(nums):\n",
    "    count = 0\n",
    "    for num in nums:\n",
    "        if num == 4:\n",
    "            count = count + 1\n",
    "    return count\n",
    "print(list_count_4([1,4,6,7,4]))\n",
    "print(list_count_4([1,4,6,4,7,4]))"
   ]
  },
  {
   "cell_type": "code",
   "execution_count": 9,
   "id": "241c0524-8128-4b78-b810-49ef7f5fe0e8",
   "metadata": {},
   "outputs": [
    {
     "name": "stdout",
     "output_type": "stream",
     "text": [
      "True\n",
      "True\n"
     ]
    }
   ],
   "source": [
    "def is_vowel(char):\n",
    "    all_vowels='aeiou'\n",
    "    return char in all_vowels\n",
    "print(is_vowel('a'))\n",
    "print(is_vowel('i'))"
   ]
  },
  {
   "cell_type": "code",
   "execution_count": 17,
   "id": "5578b96e-5a63-4e05-8ec7-1d5a616a1de4",
   "metadata": {},
   "outputs": [
    {
     "name": "stdout",
     "output_type": "stream",
     "text": [
      "True\n",
      "False\n"
     ]
    }
   ],
   "source": [
    "def is_group_member(group_data,n):\n",
    "    for value in group_data:\n",
    "        if n == value:\n",
    "            return True\n",
    "    return False\n",
    "print(is_group_member([1,5,8,3],3))\n",
    "print(is_group_member([1,5,8,3],-1))"
   ]
  },
  {
   "cell_type": "code",
   "execution_count": 21,
   "id": "a7ef3418-59cf-49f0-b957-05ffc7552b13",
   "metadata": {},
   "outputs": [
    {
     "name": "stdout",
     "output_type": "stream",
     "text": [
      "@@\n",
      "@@@\n",
      "@@@@@@\n",
      "@@@@@\n"
     ]
    }
   ],
   "source": [
    "def histogram(items):\n",
    "    for n in items:\n",
    "        output=''\n",
    "        times=n\n",
    "        while(times>0):\n",
    "            output= output+'@'\n",
    "            times=times-1\n",
    "        print(output)\n",
    "histogram([2,3,6,5])"
   ]
  },
  {
   "cell_type": "code",
   "execution_count": 26,
   "id": "08ffa6be-eb5d-4ce3-81a9-f200726428d0",
   "metadata": {},
   "outputs": [
    {
     "name": "stdout",
     "output_type": "stream",
     "text": [
      "15122\n"
     ]
    }
   ],
   "source": [
    "def concatenate_list_items(list):\n",
    "    result=''\n",
    "    for elements in list:\n",
    "        result= result+str(elements)\n",
    "    return result\n",
    "print (concatenate_list_items([ 1, 5, 12, 2]))"
   ]
  },
  {
   "cell_type": "code",
   "execution_count": 27,
   "id": "13c1a384-d32f-4544-871a-f9b88eac78d5",
   "metadata": {},
   "outputs": [
    {
     "name": "stdin",
     "output_type": "stream",
     "text": [
      "enter the base : 8\n",
      "enter the height : 12\n"
     ]
    },
    {
     "name": "stdout",
     "output_type": "stream",
     "text": [
      "area= 48.0\n"
     ]
    }
   ],
   "source": [
    "b=int(input('enter the base :'))\n",
    "h=int(input('enter the height :'))\n",
    "area=b*h/2\n",
    "print('area=',area)"
   ]
  },
  {
   "cell_type": "code",
   "execution_count": 28,
   "id": "a4b31775-3761-424c-bf49-cf40e7f527e1",
   "metadata": {},
   "outputs": [
    {
     "name": "stdout",
     "output_type": "stream",
     "text": [
      "6\n",
      "0\n",
      "101\n"
     ]
    }
   ],
   "source": [
    "def sum(x,y,z):\n",
    "    if x==y or y==z or x==z:\n",
    "        sum=0\n",
    "    else:\n",
    "        sum=x+y+z\n",
    "    return sum\n",
    "print(sum(2,1,3))\n",
    "print(sum(4,2,4))\n",
    "print(sum(10,41,50))"
   ]
  },
  {
   "cell_type": "code",
   "execution_count": 32,
   "id": "afd91b6d-3a5f-4fea-bc42-ffcf380bc2c7",
   "metadata": {},
   "outputs": [
    {
     "name": "stdout",
     "output_type": "stream",
     "text": [
      "23\n",
      "20\n"
     ]
    }
   ],
   "source": [
    "def sum(x,y):\n",
    "    sum=x+y\n",
    "    if sum in range(15,20):\n",
    "        return 20\n",
    "    else:\n",
    "        return sum\n",
    "print(sum(12,11))\n",
    "print(sum(10,5))"
   ]
  },
  {
   "cell_type": "code",
   "execution_count": 34,
   "id": "fcd25efb-c399-4d3d-8fcc-8d3c4bf98d52",
   "metadata": {},
   "outputs": [
    {
     "name": "stdout",
     "output_type": "stream",
     "text": [
      "False\n",
      "True\n",
      "True\n"
     ]
    }
   ],
   "source": [
    "def test_numbers(x,y):\n",
    "    if x==y or abs(x-y)==5 or (x+y)==5:\n",
    "        return True\n",
    "    else:\n",
    "        return False\n",
    "print(test_numbers(5,3))\n",
    "print(test_numbers(5,5))\n",
    "print(test_numbers(2,3))"
   ]
  },
  {
   "cell_type": "code",
   "execution_count": 36,
   "id": "62016ee5-18f3-47a0-9cdc-0559d9d4a2a4",
   "metadata": {},
   "outputs": [
    {
     "name": "stdout",
     "output_type": "stream",
     "text": [
      "6.324555320336759\n"
     ]
    }
   ],
   "source": [
    "import math\n",
    "p1=[4,0]\n",
    "p2=[6,6]\n",
    "distance = math.sqrt(((p1[0]-p2[0])**2)+((p1[1]-p2[1])**2))\n",
    "print(distance)"
   ]
  },
  {
   "cell_type": "code",
   "execution_count": null,
   "id": "99165f03-bc78-4bef-b2ad-5c3a85153954",
   "metadata": {},
   "outputs": [],
   "source": []
  }
 ],
 "metadata": {
  "kernelspec": {
   "display_name": "Python 3 (ipykernel)",
   "language": "python",
   "name": "python3"
  },
  "language_info": {
   "codemirror_mode": {
    "name": "ipython",
    "version": 3
   },
   "file_extension": ".py",
   "mimetype": "text/x-python",
   "name": "python",
   "nbconvert_exporter": "python",
   "pygments_lexer": "ipython3",
   "version": "3.11.7"
  }
 },
 "nbformat": 4,
 "nbformat_minor": 5
}
