{
 "cells": [
  {
   "cell_type": "code",
   "execution_count": 1,
   "id": "fb229d31-3265-4f96-8222-642c8b311064",
   "metadata": {},
   "outputs": [],
   "source": [
    "import numpy as np\n",
    "import pandas as pd\n",
    "import matplotlib.pyplot as plt\n",
    "import seaborn as sns\n",
    "import os\n"
   ]
  },
  {
   "cell_type": "code",
   "execution_count": 7,
   "id": "c0f0fb6d-c111-4079-9d6f-034a6b013577",
   "metadata": {},
   "outputs": [
    {
     "name": "stdout",
     "output_type": "stream",
     "text": [
      "C:\\Users\\Faiz\\Desktop\\Acmegrade internship stuff\n"
     ]
    }
   ],
   "source": [
    "%cd C:\\Users\\Faiz\\Desktop\\Acmegrade internship stuff"
   ]
  },
  {
   "cell_type": "code",
   "execution_count": 8,
   "id": "9ec27c7f-5e3e-4fc5-9223-ae61a36006f7",
   "metadata": {},
   "outputs": [
    {
     "name": "stdout",
     "output_type": "stream",
     "text": [
      "   Country   Age   Salary  Purchased \n",
      "0   France   44.0  72000.0         No\n",
      "1       NaN  27.0  48000.0        Yes\n",
      "2  Germany    NaN  54000.0         No\n",
      "3    Spain   39.0      NaN         No\n",
      "4  Germany    NaN  64000.0        Yes\n",
      "5   France   35.0  58000.0        Yes\n",
      "6    Spain   39.0  52000.0         No\n",
      "7   France   48.0      NaN        Yes\n",
      "8  Germany   50.0  83000.0         No\n",
      "9   France   37.0  67000.0        Yes\n"
     ]
    }
   ],
   "source": [
    "df1 = pd.read_excel(\"Data Preprocessing Data File.xlsx\")\n",
    "print(df1)"
   ]
  },
  {
   "cell_type": "code",
   "execution_count": 9,
   "id": "fad58227-bc3e-40b3-b213-fd159b6cdcdd",
   "metadata": {},
   "outputs": [
    {
     "data": {
      "text/html": [
       "<div>\n",
       "<style scoped>\n",
       "    .dataframe tbody tr th:only-of-type {\n",
       "        vertical-align: middle;\n",
       "    }\n",
       "\n",
       "    .dataframe tbody tr th {\n",
       "        vertical-align: top;\n",
       "    }\n",
       "\n",
       "    .dataframe thead th {\n",
       "        text-align: right;\n",
       "    }\n",
       "</style>\n",
       "<table border=\"1\" class=\"dataframe\">\n",
       "  <thead>\n",
       "    <tr style=\"text-align: right;\">\n",
       "      <th></th>\n",
       "      <th>Country</th>\n",
       "      <th>Age</th>\n",
       "      <th>Salary</th>\n",
       "    </tr>\n",
       "  </thead>\n",
       "  <tbody>\n",
       "    <tr>\n",
       "      <th>0</th>\n",
       "      <td>France</td>\n",
       "      <td>44.0</td>\n",
       "      <td>72000.0</td>\n",
       "    </tr>\n",
       "    <tr>\n",
       "      <th>1</th>\n",
       "      <td>NaN</td>\n",
       "      <td>27.0</td>\n",
       "      <td>48000.0</td>\n",
       "    </tr>\n",
       "    <tr>\n",
       "      <th>2</th>\n",
       "      <td>Germany</td>\n",
       "      <td>NaN</td>\n",
       "      <td>54000.0</td>\n",
       "    </tr>\n",
       "    <tr>\n",
       "      <th>3</th>\n",
       "      <td>Spain</td>\n",
       "      <td>39.0</td>\n",
       "      <td>NaN</td>\n",
       "    </tr>\n",
       "    <tr>\n",
       "      <th>4</th>\n",
       "      <td>Germany</td>\n",
       "      <td>NaN</td>\n",
       "      <td>64000.0</td>\n",
       "    </tr>\n",
       "    <tr>\n",
       "      <th>5</th>\n",
       "      <td>France</td>\n",
       "      <td>35.0</td>\n",
       "      <td>58000.0</td>\n",
       "    </tr>\n",
       "    <tr>\n",
       "      <th>6</th>\n",
       "      <td>Spain</td>\n",
       "      <td>39.0</td>\n",
       "      <td>52000.0</td>\n",
       "    </tr>\n",
       "    <tr>\n",
       "      <th>7</th>\n",
       "      <td>France</td>\n",
       "      <td>48.0</td>\n",
       "      <td>NaN</td>\n",
       "    </tr>\n",
       "    <tr>\n",
       "      <th>8</th>\n",
       "      <td>Germany</td>\n",
       "      <td>50.0</td>\n",
       "      <td>83000.0</td>\n",
       "    </tr>\n",
       "    <tr>\n",
       "      <th>9</th>\n",
       "      <td>France</td>\n",
       "      <td>37.0</td>\n",
       "      <td>67000.0</td>\n",
       "    </tr>\n",
       "  </tbody>\n",
       "</table>\n",
       "</div>"
      ],
      "text/plain": [
       "   Country   Age   Salary \n",
       "0   France   44.0  72000.0\n",
       "1       NaN  27.0  48000.0\n",
       "2  Germany    NaN  54000.0\n",
       "3    Spain   39.0      NaN\n",
       "4  Germany    NaN  64000.0\n",
       "5   France   35.0  58000.0\n",
       "6    Spain   39.0  52000.0\n",
       "7   France   48.0      NaN\n",
       "8  Germany   50.0  83000.0\n",
       "9   France   37.0  67000.0"
      ]
     },
     "execution_count": 9,
     "metadata": {},
     "output_type": "execute_result"
    }
   ],
   "source": [
    "x = df1.iloc [:,:-1]\n",
    "x"
   ]
  },
  {
   "cell_type": "code",
   "execution_count": 11,
   "id": "009b9193-73c0-49d8-8910-1f022c73fc7e",
   "metadata": {},
   "outputs": [
    {
     "name": "stdout",
     "output_type": "stream",
     "text": [
      "['No' 'Yes' 'No' 'No' 'Yes' 'Yes' 'No' 'Yes' 'No' 'Yes']\n"
     ]
    }
   ],
   "source": [
    "y = df1.iloc[:,3].values\n",
    "print (y)\n"
   ]
  },
  {
   "cell_type": "code",
   "execution_count": 17,
   "id": "67cbcd17-5cc7-47dd-8ec2-5bcc746c0825",
   "metadata": {},
   "outputs": [
    {
     "data": {
      "text/html": [
       "<div>\n",
       "<style scoped>\n",
       "    .dataframe tbody tr th:only-of-type {\n",
       "        vertical-align: middle;\n",
       "    }\n",
       "\n",
       "    .dataframe tbody tr th {\n",
       "        vertical-align: top;\n",
       "    }\n",
       "\n",
       "    .dataframe thead th {\n",
       "        text-align: right;\n",
       "    }\n",
       "</style>\n",
       "<table border=\"1\" class=\"dataframe\">\n",
       "  <thead>\n",
       "    <tr style=\"text-align: right;\">\n",
       "      <th></th>\n",
       "      <th>Age</th>\n",
       "    </tr>\n",
       "  </thead>\n",
       "  <tbody>\n",
       "    <tr>\n",
       "      <th>0</th>\n",
       "      <td>44.0</td>\n",
       "    </tr>\n",
       "    <tr>\n",
       "      <th>1</th>\n",
       "      <td>27.0</td>\n",
       "    </tr>\n",
       "    <tr>\n",
       "      <th>2</th>\n",
       "      <td>NaN</td>\n",
       "    </tr>\n",
       "    <tr>\n",
       "      <th>3</th>\n",
       "      <td>39.0</td>\n",
       "    </tr>\n",
       "    <tr>\n",
       "      <th>4</th>\n",
       "      <td>NaN</td>\n",
       "    </tr>\n",
       "    <tr>\n",
       "      <th>5</th>\n",
       "      <td>35.0</td>\n",
       "    </tr>\n",
       "    <tr>\n",
       "      <th>6</th>\n",
       "      <td>39.0</td>\n",
       "    </tr>\n",
       "    <tr>\n",
       "      <th>7</th>\n",
       "      <td>48.0</td>\n",
       "    </tr>\n",
       "    <tr>\n",
       "      <th>8</th>\n",
       "      <td>50.0</td>\n",
       "    </tr>\n",
       "    <tr>\n",
       "      <th>9</th>\n",
       "      <td>37.0</td>\n",
       "    </tr>\n",
       "  </tbody>\n",
       "</table>\n",
       "</div>"
      ],
      "text/plain": [
       "   Age \n",
       "0  44.0\n",
       "1  27.0\n",
       "2   NaN\n",
       "3  39.0\n",
       "4   NaN\n",
       "5  35.0\n",
       "6  39.0\n",
       "7  48.0\n",
       "8  50.0\n",
       "9  37.0"
      ]
     },
     "execution_count": 17,
     "metadata": {},
     "output_type": "execute_result"
    }
   ],
   "source": [
    "x1=df1.iloc[:,1:2]\n",
    "x1"
   ]
  },
  {
   "cell_type": "code",
   "execution_count": 19,
   "id": "86ce1033-aa10-4f67-aca5-9b490d672571",
   "metadata": {},
   "outputs": [
    {
     "data": {
      "text/plain": [
       "array([[44.   ],\n",
       "       [27.   ],\n",
       "       [39.875],\n",
       "       [39.   ],\n",
       "       [39.875],\n",
       "       [35.   ],\n",
       "       [39.   ],\n",
       "       [48.   ],\n",
       "       [50.   ],\n",
       "       [37.   ]])"
      ]
     },
     "execution_count": 19,
     "metadata": {},
     "output_type": "execute_result"
    }
   ],
   "source": [
    "from sklearn.impute import SimpleImputer\n",
    "si = SimpleImputer()\n",
    "si.fit_transform(x1)\n"
   ]
  },
  {
   "cell_type": "code",
   "execution_count": 20,
   "id": "b856b603-023b-4778-96ea-29a1d53137dd",
   "metadata": {},
   "outputs": [
    {
     "data": {
      "text/plain": [
       "array([[44.],\n",
       "       [27.],\n",
       "       [39.],\n",
       "       [39.],\n",
       "       [39.],\n",
       "       [35.],\n",
       "       [39.],\n",
       "       [48.],\n",
       "       [50.],\n",
       "       [37.]])"
      ]
     },
     "execution_count": 20,
     "metadata": {},
     "output_type": "execute_result"
    }
   ],
   "source": [
    "from sklearn.impute import SimpleImputer\n",
    "si = SimpleImputer( strategy= 'median',)\n",
    "si.fit_transform(x1)"
   ]
  },
  {
   "cell_type": "code",
   "execution_count": 21,
   "id": "08c7d0e4-89ed-4684-8e41-a9cd96b932a0",
   "metadata": {},
   "outputs": [
    {
     "data": {
      "text/plain": [
       "array([[44.],\n",
       "       [27.],\n",
       "       [39.],\n",
       "       [39.],\n",
       "       [39.],\n",
       "       [35.],\n",
       "       [39.],\n",
       "       [48.],\n",
       "       [50.],\n",
       "       [37.]])"
      ]
     },
     "execution_count": 21,
     "metadata": {},
     "output_type": "execute_result"
    }
   ],
   "source": [
    "from sklearn.impute import SimpleImputer\n",
    "si = SimpleImputer(strategy='most_frequent')\n",
    "si.fit_transform(x1)"
   ]
  },
  {
   "cell_type": "code",
   "execution_count": null,
   "id": "7b854f21-2f8f-407b-9b26-41c091fb0477",
   "metadata": {},
   "outputs": [],
   "source": []
  },
  {
   "cell_type": "code",
   "execution_count": null,
   "id": "b00679dd-4ed8-46b8-b753-a74c291ec06e",
   "metadata": {},
   "outputs": [],
   "source": []
  },
  {
   "cell_type": "code",
   "execution_count": null,
   "id": "303f6c33-b271-4fbd-a70d-2d3ae92f190a",
   "metadata": {},
   "outputs": [],
   "source": []
  },
  {
   "cell_type": "code",
   "execution_count": null,
   "id": "df112408-f9cd-4531-9eaf-cfe64ee77b83",
   "metadata": {},
   "outputs": [],
   "source": []
  }
 ],
 "metadata": {
  "kernelspec": {
   "display_name": "Python 3 (ipykernel)",
   "language": "python",
   "name": "python3"
  },
  "language_info": {
   "codemirror_mode": {
    "name": "ipython",
    "version": 3
   },
   "file_extension": ".py",
   "mimetype": "text/x-python",
   "name": "python",
   "nbconvert_exporter": "python",
   "pygments_lexer": "ipython3",
   "version": "3.11.7"
  }
 },
 "nbformat": 4,
 "nbformat_minor": 5
}
