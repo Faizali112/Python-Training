{
 "cells": [
  {
   "cell_type": "code",
   "execution_count": 1,
   "id": "bc82f5f0-814d-46ad-9f4b-b223b216c0b1",
   "metadata": {},
   "outputs": [
    {
     "name": "stdout",
     "output_type": "stream",
     "text": [
      "10\n",
      "15\n",
      "20\n",
      "25\n",
      "good day\n"
     ]
    }
   ],
   "source": [
    "A = [10,15,20,25]\n",
    "for i in A:\n",
    "    print(i)\n",
    "print('good day')"
   ]
  },
  {
   "cell_type": "code",
   "execution_count": 3,
   "id": "630dd6e7-19a2-456e-9989-a9aeb2227c0e",
   "metadata": {},
   "outputs": [
    {
     "name": "stdout",
     "output_type": "stream",
     "text": [
      "\n",
      "1\n",
      "22\n",
      "333\n",
      "4444\n",
      "55555\n",
      "666666\n",
      "7777777\n",
      "88888888\n",
      "999999999\n",
      "good day\n"
     ]
    }
   ],
   "source": [
    "for i in range(10):\n",
    "    print(str(i)*i)\n",
    "print('good day')"
   ]
  },
  {
   "cell_type": "code",
   "execution_count": 6,
   "id": "0ccb8271-4613-4cf7-9a8b-405cc94ab16f",
   "metadata": {},
   "outputs": [
    {
     "name": "stdout",
     "output_type": "stream",
     "text": [
      "pen\n",
      "  school\n",
      "  college\n",
      "pencil\n",
      "  school\n",
      "  college\n",
      "books\n",
      "  school\n",
      "  college\n",
      "toy\n",
      "  school\n",
      "  college\n"
     ]
    }
   ],
   "source": [
    "A = ['pen','pencil','books','toy']\n",
    "B = ['school','college']\n",
    "for i in A:\n",
    "    print(i)\n",
    "    for j in B:\n",
    "        print(' ',j)"
   ]
  },
  {
   "cell_type": "code",
   "execution_count": 8,
   "id": "bab12939-0415-458b-90a0-019d4caf113a",
   "metadata": {},
   "outputs": [
    {
     "name": "stdout",
     "output_type": "stream",
     "text": [
      "pen\n"
     ]
    }
   ],
   "source": [
    "A = ['pen','pencil','books','toy']\n",
    "B = ['school','college']\n",
    "for i in A:\n",
    "    print(i)\n",
    "    break\n",
    "    for j in B:\n",
    "        print(' ',j)"
   ]
  },
  {
   "cell_type": "code",
   "execution_count": 9,
   "id": "ec5a24b0-ca3b-4dfe-b891-4c34a12094d5",
   "metadata": {},
   "outputs": [
    {
     "name": "stdin",
     "output_type": "stream",
     "text": [
      "enter the first number 10\n",
      "enter the second number 20\n"
     ]
    },
    {
     "name": "stdout",
     "output_type": "stream",
     "text": [
      "data type of no1 is  <class 'str'>\n",
      "30\n"
     ]
    }
   ],
   "source": [
    "no1 = input('enter the first number')\n",
    "no2 = input('enter the second number')\n",
    "print('data type of no1 is ',type(no1))\n",
    "no3 = int(no1)+int(no2)\n",
    "print(no3)"
   ]
  },
  {
   "cell_type": "code",
   "execution_count": 1,
   "id": "8a1b566b-84af-47ba-b398-b85efe2fa2d1",
   "metadata": {},
   "outputs": [
    {
     "name": "stdout",
     "output_type": "stream",
     "text": [
      "0\n",
      "1\n",
      "2\n",
      "3\n",
      "4\n"
     ]
    }
   ],
   "source": [
    "for i in range(5):\n",
    "    print(i)"
   ]
  },
  {
   "cell_type": "code",
   "execution_count": 2,
   "id": "aedef122-15d4-4b90-892d-b782444b4096",
   "metadata": {},
   "outputs": [
    {
     "name": "stdin",
     "output_type": "stream",
     "text": [
      "enter faiz\n"
     ]
    },
    {
     "name": "stdout",
     "output_type": "stream",
     "text": [
      "<class 'str'>\n"
     ]
    }
   ],
   "source": [
    "x = input('enter')\n",
    "print(type(x))"
   ]
  },
  {
   "cell_type": "code",
   "execution_count": 12,
   "id": "1a94a973-31bf-4cf6-906c-64f28d1729cc",
   "metadata": {},
   "outputs": [],
   "source": [
    "def sales():\n",
    "    price = 50\n",
    "    qty = input('enter quantity')\n",
    "    amt = int(qty)*price\n",
    "    print(amt)"
   ]
  },
  {
   "cell_type": "code",
   "execution_count": 13,
   "id": "0b9810ad-53bb-4317-becc-de57a056aae9",
   "metadata": {},
   "outputs": [
    {
     "name": "stdin",
     "output_type": "stream",
     "text": [
      "enter quantity 10\n"
     ]
    },
    {
     "name": "stdout",
     "output_type": "stream",
     "text": [
      "500\n"
     ]
    }
   ],
   "source": [
    "sales()"
   ]
  },
  {
   "cell_type": "code",
   "execution_count": 26,
   "id": "29d2eb45-11f9-4ba3-ad39-0824c503c8ab",
   "metadata": {},
   "outputs": [],
   "source": [
    "def sales(qty=10,price=49):\n",
    "    amt = int(qty)*price\n",
    "    print('Rs',amt)"
   ]
  },
  {
   "cell_type": "code",
   "execution_count": 25,
   "id": "3633e06d-922f-44b3-a0bb-f5d31cb7844e",
   "metadata": {},
   "outputs": [
    {
     "name": "stdout",
     "output_type": "stream",
     "text": [
      "Rs 392\n"
     ]
    }
   ],
   "source": [
    "sales(8)"
   ]
  },
  {
   "cell_type": "code",
   "execution_count": 28,
   "id": "7acd3423-2350-4b2a-be31-465414e4ff16",
   "metadata": {},
   "outputs": [
    {
     "name": "stdout",
     "output_type": "stream",
     "text": [
      "Rs 200\n"
     ]
    }
   ],
   "source": [
    "sales(price=20)"
   ]
  },
  {
   "cell_type": "code",
   "execution_count": 29,
   "id": "214b50cd-4fb6-4196-9ddd-bbe27041c550",
   "metadata": {},
   "outputs": [],
   "source": [
    "def sales(qty=10,price=49):\n",
    "    amt = int(qty)*price\n",
    "    return (amt)"
   ]
  },
  {
   "cell_type": "code",
   "execution_count": 30,
   "id": "0e0d248a-f132-4e83-988c-d5de10f07ccd",
   "metadata": {},
   "outputs": [
    {
     "name": "stdout",
     "output_type": "stream",
     "text": [
      "600\n"
     ]
    }
   ],
   "source": [
    "s1= sales(20,30)\n",
    "print(s1)"
   ]
  },
  {
   "cell_type": "code",
   "execution_count": 33,
   "id": "de16a423-2935-4375-8369-04a297368ba7",
   "metadata": {},
   "outputs": [
    {
     "data": {
      "text/plain": [
       "[98]"
      ]
     },
     "execution_count": 33,
     "metadata": {},
     "output_type": "execute_result"
    }
   ],
   "source": [
    "sls=[]\n",
    "sls.append(sales(2))\n",
    "sls"
   ]
  },
  {
   "cell_type": "code",
   "execution_count": 34,
   "id": "0b350f0f-036b-4762-a487-2ce733d8be61",
   "metadata": {},
   "outputs": [
    {
     "data": {
      "text/plain": [
       "[98, 1470]"
      ]
     },
     "execution_count": 34,
     "metadata": {},
     "output_type": "execute_result"
    }
   ],
   "source": [
    "sls.append(sales(30))\n",
    "sls"
   ]
  },
  {
   "cell_type": "code",
   "execution_count": 39,
   "id": "632faeb8-0f28-4a30-b798-f4078c0703aa",
   "metadata": {},
   "outputs": [],
   "source": [
    "def financials (revenue,expenses):\n",
    "    profit= revenue-expenses\n",
    "    profit_ratio= profit/revenue\n",
    "    new_financials = (profit,profit_ratio)\n",
    "    return(new_financials)"
   ]
  },
  {
   "cell_type": "code",
   "execution_count": 40,
   "id": "f8ef4be4-5edb-4ac5-8529-a39383f90a4f",
   "metadata": {},
   "outputs": [
    {
     "data": {
      "text/plain": [
       "(7000, 0.7777777777777778)"
      ]
     },
     "execution_count": 40,
     "metadata": {},
     "output_type": "execute_result"
    }
   ],
   "source": [
    "financials(9000,2000)"
   ]
  },
  {
   "cell_type": "code",
   "execution_count": 41,
   "id": "b50dfe58-0f93-4d6a-a69c-df819c100680",
   "metadata": {},
   "outputs": [
    {
     "name": "stdout",
     "output_type": "stream",
     "text": [
      "(7000, 0.7777777777777778)\n"
     ]
    }
   ],
   "source": [
    "x=financials(9000,2000)\n",
    "print(x)"
   ]
  },
  {
   "cell_type": "code",
   "execution_count": 42,
   "id": "3f548574-6bac-4b3c-86da-a7692fae3654",
   "metadata": {},
   "outputs": [
    {
     "name": "stdout",
     "output_type": "stream",
     "text": [
      "profit 7000\n",
      "profit_ratio 0.7777777777777778\n"
     ]
    }
   ],
   "source": [
    "print('profit',x[0])\n",
    "print('profit_ratio',x[1])"
   ]
  },
  {
   "cell_type": "code",
   "execution_count": 44,
   "id": "bfc5dac8-90b7-4509-85ea-8505691267ee",
   "metadata": {},
   "outputs": [],
   "source": [
    "def conversion(deg):\n",
    "    F=(deg*9/5)+32\n",
    "    return(F)"
   ]
  },
  {
   "cell_type": "code",
   "execution_count": 45,
   "id": "cb4e1887-a586-4bde-aed5-5ac7a79f8d42",
   "metadata": {},
   "outputs": [
    {
     "data": {
      "text/plain": [
       "89.6"
      ]
     },
     "execution_count": 45,
     "metadata": {},
     "output_type": "execute_result"
    }
   ],
   "source": [
    "conversion(32)"
   ]
  },
  {
   "cell_type": "code",
   "execution_count": null,
   "id": "1d1da532-69f7-4da9-be64-b17b12f5b62d",
   "metadata": {},
   "outputs": [],
   "source": [
    "list=[]\n",
    "tuple=()\n",
    "set={}\n",
    "dictionary={'key':'value'}"
   ]
  },
  {
   "cell_type": "code",
   "execution_count": 47,
   "id": "898da31c-ce16-4a75-94a1-1e87bf3725ef",
   "metadata": {},
   "outputs": [
    {
     "name": "stdout",
     "output_type": "stream",
     "text": [
      "[10, 20, 30, True, 'Sat', [50, 52, 54], (45, 65, 54)]\n"
     ]
    }
   ],
   "source": [
    "l1=[10,20,30,True,'Sat',[50,52,54],(45,65,54)]\n",
    "print(l1)\n"
   ]
  },
  {
   "cell_type": "code",
   "execution_count": 51,
   "id": "1148a7a9-fb7c-4cd1-ba27-09baa7d5f499",
   "metadata": {},
   "outputs": [
    {
     "data": {
      "text/plain": [
       "(45, 65, 54)"
      ]
     },
     "execution_count": 51,
     "metadata": {},
     "output_type": "execute_result"
    }
   ],
   "source": [
    "l1 [-1]"
   ]
  },
  {
   "cell_type": "code",
   "execution_count": null,
   "id": "6be7e1c6-839b-477d-8f55-e6e0c95960b0",
   "metadata": {},
   "outputs": [],
   "source": []
  },
  {
   "cell_type": "code",
   "execution_count": null,
   "id": "e5054826-6ba6-4654-851d-75abf3372e11",
   "metadata": {},
   "outputs": [],
   "source": []
  }
 ],
 "metadata": {
  "kernelspec": {
   "display_name": "Python 3 (ipykernel)",
   "language": "python",
   "name": "python3"
  },
  "language_info": {
   "codemirror_mode": {
    "name": "ipython",
    "version": 3
   },
   "file_extension": ".py",
   "mimetype": "text/x-python",
   "name": "python",
   "nbconvert_exporter": "python",
   "pygments_lexer": "ipython3",
   "version": "3.11.7"
  }
 },
 "nbformat": 4,
 "nbformat_minor": 5
}
