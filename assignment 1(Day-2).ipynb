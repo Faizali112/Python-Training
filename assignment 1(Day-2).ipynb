{
 "cells": [
  {
   "cell_type": "code",
   "execution_count": 1,
   "id": "f9b7ca43-b572-4c3e-85d1-a47a20f8e59c",
   "metadata": {},
   "outputs": [
    {
     "name": "stdout",
     "output_type": "stream",
     "text": [
      "python version\n",
      "3.11.7 | packaged by Anaconda, Inc. | (main, Dec 15 2023, 18:05:47) [MSC v.1916 64 bit (AMD64)]\n",
      "version info.\n",
      "sys.version_info(major=3, minor=11, micro=7, releaselevel='final', serial=0)\n"
     ]
    }
   ],
   "source": [
    "import sys\n",
    "print(\"python version\")\n",
    "print(sys.version)\n",
    "print(\"version info.\")\n",
    "print(sys.version_info)"
   ]
  },
  {
   "cell_type": "code",
   "execution_count": 4,
   "id": "42545f71-f0d6-4c32-b213-83ba016a5efa",
   "metadata": {},
   "outputs": [
    {
     "name": "stdout",
     "output_type": "stream",
     "text": [
      "2024-03-19 14:46:34.787717\n"
     ]
    }
   ],
   "source": [
    "import datetime\n",
    "x=datetime.datetime.now()\n",
    "print(x)"
   ]
  },
  {
   "cell_type": "code",
   "execution_count": 6,
   "id": "2ed7b580-6abf-4e5c-9f82-293751d468ea",
   "metadata": {},
   "outputs": [
    {
     "name": "stdin",
     "output_type": "stream",
     "text": [
      "input the radius of the circle: 12\n"
     ]
    },
    {
     "name": "stdout",
     "output_type": "stream",
     "text": [
      "the area of the circle with radius 12.0 is: 452.3893421169302\n"
     ]
    }
   ],
   "source": [
    "from math import pi\n",
    "r = float(input(\"input the radius of the circle:\"))\n",
    "print (\"the area of the circle with radius \" +str(r) +\" is: \"+str(pi*r**2))"
   ]
  },
  {
   "cell_type": "code",
   "execution_count": 9,
   "id": "42ea38b4-ace5-4c39-89f3-67220be69aaa",
   "metadata": {},
   "outputs": [
    {
     "name": "stdin",
     "output_type": "stream",
     "text": [
      "input your first name: Faiz\n",
      "input your last name: ALi\n"
     ]
    },
    {
     "name": "stdout",
     "output_type": "stream",
     "text": [
      "hello Faiz ALi\n"
     ]
    }
   ],
   "source": [
    "fname = input(\"input your first name:\")\n",
    "lname = input(\"input your last name:\")\n",
    "print(\"hello \" + fname + \" \" + lname)"
   ]
  },
  {
   "cell_type": "code",
   "execution_count": 10,
   "id": "e71da6c9-6425-4f5f-95ca-2d41da396dd9",
   "metadata": {},
   "outputs": [
    {
     "name": "stdin",
     "output_type": "stream",
     "text": [
      "input some comma seperated numbers : 1,2,3\n"
     ]
    },
    {
     "name": "stdout",
     "output_type": "stream",
     "text": [
      "list : ['1', '2', '3']\n",
      "tuple: ('1', '2', '3')\n"
     ]
    }
   ],
   "source": [
    "values = input(\"input some comma seperated numbers :\")\n",
    "list1 = values.split(\",\")\n",
    "tuple1 = tuple(list1)\n",
    "print('list :',list1)\n",
    "print('tuple:',tuple1)"
   ]
  },
  {
   "cell_type": "code",
   "execution_count": 11,
   "id": "1b51c0d6-5531-4025-a41d-5c4371713ce2",
   "metadata": {},
   "outputs": [
    {
     "name": "stdin",
     "output_type": "stream",
     "text": [
      "input the filename: file.pdf\n"
     ]
    },
    {
     "name": "stdout",
     "output_type": "stream",
     "text": [
      "the extension of the the file is : 'pdf'\n"
     ]
    }
   ],
   "source": [
    "filename = input(\"input the filename:\")\n",
    "f_extns = filename.split(\".\")\n",
    "print(\"the extension of the the file is : \" + repr(f_extns[-1]))\n",
    "                         "
   ]
  },
  {
   "cell_type": "code",
   "execution_count": 14,
   "id": "eee95008-2421-4256-aedf-afd877e8207d",
   "metadata": {},
   "outputs": [
    {
     "name": "stdout",
     "output_type": "stream",
     "text": [
      "red , black\n"
     ]
    }
   ],
   "source": [
    "colour_list = [\"red\",\"green\",\"white\",\"black\"]\n",
    "print(\"%s , %s\"%(colour_list[0],colour_list[-1]))"
   ]
  },
  {
   "cell_type": "code",
   "execution_count": 15,
   "id": "83acde01-da44-46da-af44-a12a573c9c7a",
   "metadata": {},
   "outputs": [
    {
     "name": "stdin",
     "output_type": "stream",
     "text": [
      "input an integer: 23\n"
     ]
    },
    {
     "name": "stdout",
     "output_type": "stream",
     "text": [
      "234669\n"
     ]
    }
   ],
   "source": [
    "a = int(input(\"input an integer:\"))\n",
    "n1 = int(\"%s\" %a)\n",
    "n2 = int(\"%s%s\" %(a,a))\n",
    "n3 = int(\"%s%s%s\" %(a,a,a))\n",
    "print(n1+n2+n3)"
   ]
  },
  {
   "cell_type": "code",
   "execution_count": 16,
   "id": "49d43f8c-e640-4f90-a66b-25f2fe1e854d",
   "metadata": {},
   "outputs": [
    {
     "name": "stdout",
     "output_type": "stream",
     "text": [
      "the volume of the sphere is: 904.752\n"
     ]
    }
   ],
   "source": [
    "pi = 3.1415\n",
    "r = 6.0\n",
    "v = 4.0/3.0*pi*r**3\n",
    "print('the volume of the sphere is:',v)"
   ]
  },
  {
   "cell_type": "code",
   "execution_count": 19,
   "id": "9b0f0b78-3219-4a04-82d1-05ceec72ffa5",
   "metadata": {},
   "outputs": [
    {
     "name": "stdin",
     "output_type": "stream",
     "text": [
      "input time in seconds: 34600\n"
     ]
    },
    {
     "name": "stdout",
     "output_type": "stream",
     "text": [
      "d:h:m:s-> 0 days :9 hours:36 minutes:40 seconds\n"
     ]
    }
   ],
   "source": [
    "time = float(input(\"input time in seconds:\"))\n",
    "days = time //(24*3600)\n",
    "time = time % (24*3600)\n",
    "hours = time //3600\n",
    "time %= 3600\n",
    "minutes = time //60\n",
    "time %= 60\n",
    "seconds = time\n",
    "print(\"d:h:m:s-> %d days :%d hours:%d minutes:%d seconds\" %(days,hours,minutes,seconds))"
   ]
  },
  {
   "cell_type": "code",
   "execution_count": null,
   "id": "52708613-cec0-4894-ad04-d42543e19933",
   "metadata": {},
   "outputs": [],
   "source": []
  },
  {
   "cell_type": "code",
   "execution_count": null,
   "id": "b523c90b-7849-4ccf-8c94-416667453e41",
   "metadata": {},
   "outputs": [],
   "source": []
  },
  {
   "cell_type": "code",
   "execution_count": null,
   "id": "626d973a-18a7-4343-b2ee-8e9640ccee27",
   "metadata": {},
   "outputs": [],
   "source": []
  },
  {
   "cell_type": "code",
   "execution_count": null,
   "id": "cff6a54d-c195-4781-8a2d-363b606029c1",
   "metadata": {},
   "outputs": [],
   "source": []
  }
 ],
 "metadata": {
  "kernelspec": {
   "display_name": "Python 3 (ipykernel)",
   "language": "python",
   "name": "python3"
  },
  "language_info": {
   "codemirror_mode": {
    "name": "ipython",
    "version": 3
   },
   "file_extension": ".py",
   "mimetype": "text/x-python",
   "name": "python",
   "nbconvert_exporter": "python",
   "pygments_lexer": "ipython3",
   "version": "3.11.7"
  }
 },
 "nbformat": 4,
 "nbformat_minor": 5
}
