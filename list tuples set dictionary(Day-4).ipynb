{
 "cells": [
  {
   "cell_type": "code",
   "execution_count": 6,
   "id": "60dd1425-8f07-44c3-95da-aac991e3b1c3",
   "metadata": {},
   "outputs": [
    {
     "name": "stdout",
     "output_type": "stream",
     "text": [
      "[10, 20, 30, 40]\n"
     ]
    }
   ],
   "source": [
    "a = [10,20,30,40]\n",
    "print(a)"
   ]
  },
  {
   "cell_type": "code",
   "execution_count": 9,
   "id": "213aa745-d362-4356-8771-02c15cec5b63",
   "metadata": {},
   "outputs": [
    {
     "name": "stdout",
     "output_type": "stream",
     "text": [
      "[10, 20, 30, 40, 50, 60, 61, 62, 50]\n"
     ]
    }
   ],
   "source": [
    "#append can insert only single value\n",
    "a.append(50)\n",
    "print(a)"
   ]
  },
  {
   "cell_type": "code",
   "execution_count": 5,
   "id": "be759ec0-2669-4699-a33a-da890d5df47f",
   "metadata": {},
   "outputs": [
    {
     "name": "stdout",
     "output_type": "stream",
     "text": [
      "[10, 20, 500, 30, 40, 50, 50]\n"
     ]
    }
   ],
   "source": [
    "a.insert(2,500)\n",
    "print(a)"
   ]
  },
  {
   "cell_type": "code",
   "execution_count": 10,
   "id": "20f124b9-2cc7-423a-96ce-81c501d60653",
   "metadata": {},
   "outputs": [
    {
     "name": "stdout",
     "output_type": "stream",
     "text": [
      "[10, 20, 30, 40, 50, 60, 61, 62, 50, 60, 61, 62]\n"
     ]
    }
   ],
   "source": [
    "#extend can insert multiple values\n",
    "a.extend([60,61,62])\n",
    "print(a)"
   ]
  },
  {
   "cell_type": "code",
   "execution_count": 3,
   "id": "b4bc0cf4-d2c8-4662-acb0-0f240fd95ef5",
   "metadata": {},
   "outputs": [
    {
     "name": "stdout",
     "output_type": "stream",
     "text": [
      "[]\n"
     ]
    }
   ],
   "source": [
    "a = [1,2,3,4]\n",
    "a.clear()\n",
    "print(a)"
   ]
  },
  {
   "cell_type": "code",
   "execution_count": 6,
   "id": "ad08a25f-d3d9-4cda-9081-7f2495d7f2de",
   "metadata": {},
   "outputs": [
    {
     "name": "stdout",
     "output_type": "stream",
     "text": [
      "[1, 4]\n"
     ]
    }
   ],
   "source": [
    "a = [1,2,3,4]\n",
    "del (a[1:3])\n",
    "print(a)"
   ]
  },
  {
   "cell_type": "code",
   "execution_count": 7,
   "id": "8569cea8-4923-4a7d-9e71-c2ba8aa817a2",
   "metadata": {},
   "outputs": [
    {
     "name": "stdout",
     "output_type": "stream",
     "text": [
      "[1, 2, 3, 5, 6, 7]\n"
     ]
    }
   ],
   "source": [
    "a = [1,2,3,4,5,6,7]\n",
    "a.remove(4)\n",
    "print(a)"
   ]
  },
  {
   "cell_type": "code",
   "execution_count": 8,
   "id": "773933c8-0043-4d6d-bed3-ad1ac4122d23",
   "metadata": {},
   "outputs": [
    {
     "name": "stdout",
     "output_type": "stream",
     "text": [
      "4\n",
      "[1, 2, 3, 5, 6, 7]\n"
     ]
    }
   ],
   "source": [
    "a = [1,2,3,4,5,6,7]\n",
    "r1 =a.pop(3)\n",
    "print(r1)\n",
    "print(a)"
   ]
  },
  {
   "cell_type": "code",
   "execution_count": 3,
   "id": "004fb708-c3ec-4a59-acbf-1735c2a677a4",
   "metadata": {},
   "outputs": [
    {
     "name": "stdout",
     "output_type": "stream",
     "text": [
      "[2, 4, 6, 8, 10]\n"
     ]
    }
   ],
   "source": [
    "list1= []\n",
    "for x in [1,2,3,4,5]:\n",
    "    list1.append(x*2)\n",
    "print(list1)"
   ]
  },
  {
   "cell_type": "code",
   "execution_count": 1,
   "id": "6da8e0e4-1713-4a0b-b742-6bb4b5c71c05",
   "metadata": {},
   "outputs": [
    {
     "data": {
      "text/plain": [
       "[2, 4, 6, 8, 10]"
      ]
     },
     "execution_count": 1,
     "metadata": {},
     "output_type": "execute_result"
    }
   ],
   "source": [
    "[x*2 for x in [1,2,3,4,5]] "
   ]
  },
  {
   "cell_type": "code",
   "execution_count": null,
   "id": "273b1168-a645-40fa-b876-8dc91010b505",
   "metadata": {},
   "outputs": [],
   "source": [
    "list1=[1,2,6,78,9]\n",
    "list2=sorted(list1)\n",
    "print(list1)\n",
    "print(list2)\n",
    "\n",
    "list1.sort()\n",
    "print(list1)"
   ]
  },
  {
   "cell_type": "code",
   "execution_count": 6,
   "id": "dc8c690a-5b94-4ab4-921a-b740e4be0cc1",
   "metadata": {},
   "outputs": [
    {
     "name": "stdout",
     "output_type": "stream",
     "text": [
      "[78, 9, 6, 2, 1]\n"
     ]
    }
   ],
   "source": [
    "#if we want to print it in reverse\n",
    "print(list1[::-1])"
   ]
  },
  {
   "cell_type": "code",
   "execution_count": 2,
   "id": "2d3aa240-a693-47d0-80a6-7a5369c3463c",
   "metadata": {},
   "outputs": [],
   "source": [
    "tup2=('x','y','z')\n",
    "tup2\n",
    "del (tup2)"
   ]
  },
  {
   "cell_type": "code",
   "execution_count": 3,
   "id": "01edb3fc-8824-4541-aa7d-1e8b8b19c04b",
   "metadata": {},
   "outputs": [
    {
     "name": "stdout",
     "output_type": "stream",
     "text": [
      "[10, 200, 12]\n"
     ]
    }
   ],
   "source": [
    "tup2= (10,11,12)\n",
    "l1=list(tup2)\n",
    "l1[1]=200\n",
    "print(l1)"
   ]
  },
  {
   "cell_type": "code",
   "execution_count": 5,
   "id": "2b9a009e-a982-42bd-9cfd-3ec5f45da9f9",
   "metadata": {},
   "outputs": [
    {
     "name": "stdout",
     "output_type": "stream",
     "text": [
      "8\n",
      "od Day\n"
     ]
    }
   ],
   "source": [
    "x='Good Day'\n",
    "print(len(x))\n",
    "print(x[2:8])"
   ]
  },
  {
   "cell_type": "code",
   "execution_count": 6,
   "id": "6c5dfe91-3b06-4751-9e36-bc592855cb7b",
   "metadata": {},
   "outputs": [
    {
     "name": "stdout",
     "output_type": "stream",
     "text": [
      "welcome to python training\n"
     ]
    }
   ],
   "source": [
    "a = 'python'\n",
    "b ='training'\n",
    "print('welcome to %s %s'%(a,b))"
   ]
  },
  {
   "cell_type": "code",
   "execution_count": 7,
   "id": "2c3b994c-7def-4519-8453-d14f5d13331b",
   "metadata": {},
   "outputs": [
    {
     "name": "stdout",
     "output_type": "stream",
     "text": [
      "['g', 'o', 'o', 'd', ' ', 'm', 'o', 'r', 'n', 'i', 'n', 'g']\n"
     ]
    }
   ],
   "source": [
    "x = list('good morning')\n",
    "print(x)"
   ]
  },
  {
   "cell_type": "code",
   "execution_count": 2,
   "id": "1c60e767-9ea4-4120-acbf-1f016b59147a",
   "metadata": {},
   "outputs": [
    {
     "name": "stdout",
     "output_type": "stream",
     "text": [
      "{1, 2, 3, 4, 5, 6, 7, 8, 9}\n",
      "{1, 2, 3, 4, 5, 6, 7, 8, 9}\n"
     ]
    }
   ],
   "source": [
    "a = {1,2,3,4,5}\n",
    "b = {5,6,7,8,9}\n",
    "print(a|b)\n",
    "print(a.union(b))"
   ]
  },
  {
   "cell_type": "code",
   "execution_count": 3,
   "id": "a55c2500-bf72-4b3e-a407-7d718f23c4b2",
   "metadata": {},
   "outputs": [
    {
     "name": "stdout",
     "output_type": "stream",
     "text": [
      "{5}\n",
      "{5}\n"
     ]
    }
   ],
   "source": [
    "a = {1,2,3,4,5}\n",
    "b = {5,6,7,8,9}\n",
    "print(a&b)\n",
    "print(a.intersection(b))"
   ]
  },
  {
   "cell_type": "code",
   "execution_count": 4,
   "id": "7e2f8232-eb4a-4609-a726-67397c1be011",
   "metadata": {},
   "outputs": [
    {
     "name": "stdout",
     "output_type": "stream",
     "text": [
      "{1, 2, 3, 4}\n",
      "{1, 2, 3, 4}\n"
     ]
    }
   ],
   "source": [
    "a = {1,2,3,4,5}\n",
    "b = {5,6,7,8,9}\n",
    "print(a-b)\n",
    "print(a.difference(b))"
   ]
  },
  {
   "cell_type": "code",
   "execution_count": 6,
   "id": "0e1aff60-bec1-47ec-a743-37734d5000e9",
   "metadata": {},
   "outputs": [
    {
     "name": "stdout",
     "output_type": "stream",
     "text": [
      "True\n"
     ]
    }
   ],
   "source": [
    "a = {1,2,3,4,5}\n",
    "b = {3,4,5}\n",
    "print(b.issubset(a))"
   ]
  },
  {
   "cell_type": "code",
   "execution_count": 7,
   "id": "96555b6d-acca-495d-802f-6619acdeeda5",
   "metadata": {},
   "outputs": [
    {
     "name": "stdout",
     "output_type": "stream",
     "text": [
      "True\n"
     ]
    }
   ],
   "source": [
    "a = {1,2,3,4,5}\n",
    "b = {3,4,5}\n",
    "print(a.issuperset(b))"
   ]
  },
  {
   "cell_type": "code",
   "execution_count": null,
   "id": "f1712b9d-2715-470e-bedd-2b3b9f93e702",
   "metadata": {},
   "outputs": [],
   "source": []
  },
  {
   "cell_type": "code",
   "execution_count": null,
   "id": "96d11be4-c31a-4523-ae4e-5dabbc217317",
   "metadata": {},
   "outputs": [],
   "source": []
  }
 ],
 "metadata": {
  "kernelspec": {
   "display_name": "Python 3 (ipykernel)",
   "language": "python",
   "name": "python3"
  },
  "language_info": {
   "codemirror_mode": {
    "name": "ipython",
    "version": 3
   },
   "file_extension": ".py",
   "mimetype": "text/x-python",
   "name": "python",
   "nbconvert_exporter": "python",
   "pygments_lexer": "ipython3",
   "version": "3.11.7"
  }
 },
 "nbformat": 4,
 "nbformat_minor": 5
}
